{
 "cells": [
  {
   "cell_type": "code",
   "execution_count": 1,
   "metadata": {},
   "outputs": [
    {
     "name": "stderr",
     "output_type": "stream",
     "text": [
      "Using TensorFlow backend.\n"
     ]
    }
   ],
   "source": [
    "from os import listdir\n",
    "from numpy import asarray\n",
    "from numpy import vstack\n",
    "from keras.preprocessing.image import img_to_array\n",
    "from keras.preprocessing.image import load_img\n",
    "from numpy import savez_compressed\n",
    "import matplotlib.pyplot as plt \n",
    "import glob\n",
    "import matplotlib.pyplot as plt\n",
    "import matplotlib.image as mpimg"
   ]
  },
  {
   "cell_type": "code",
   "execution_count": 2,
   "metadata": {},
   "outputs": [],
   "source": [
    "from os import listdir\n",
    "from numpy import asarray\n",
    "from numpy import vstack\n",
    "from keras.preprocessing.image import img_to_array\n",
    "from keras.preprocessing.image import load_img\n",
    "from numpy import savez_compressed"
   ]
  },
  {
   "cell_type": "code",
   "execution_count": 3,
   "metadata": {},
   "outputs": [],
   "source": [
    "import numpy as np "
   ]
  },
  {
   "cell_type": "code",
   "execution_count": 4,
   "metadata": {},
   "outputs": [],
   "source": [
    "import seaborn as sns \n",
    "sns.set()\n",
    "import plotly.express as px\n",
    "# example of loading a pix2pix model and using it for image to image translation\n",
    "from tensorflow.keras.models import load_model\n",
    "from numpy import load\n",
    "\n",
    "from numpy import vstack\n",
    "import matplotlib.pyplot as plt\n",
    "from matplotlib import pyplot\n",
    "from numpy.random import randint\n",
    "import tensorflow.keras as tf\n",
    "# load and prepare training images"
   ]
  },
  {
   "cell_type": "code",
   "execution_count": 5,
   "metadata": {},
   "outputs": [],
   "source": [
    "import gradio as gr"
   ]
  },
  {
   "cell_type": "code",
   "execution_count": 7,
   "metadata": {},
   "outputs": [
    {
     "data": {
      "text/plain": [
       "['model_013875.h5',\n",
       " 'model_002775.h5',\n",
       " 'model_016650.h5',\n",
       " 'model_022200.h5',\n",
       " 'model_019425.h5']"
      ]
     },
     "execution_count": 7,
     "metadata": {},
     "output_type": "execute_result"
    }
   ],
   "source": [
    "import glob \n",
    "name1 = glob.glob('*.h5')\n",
    "name1"
   ]
  },
  {
   "cell_type": "code",
   "execution_count": null,
   "metadata": {},
   "outputs": [],
   "source": []
  },
  {
   "cell_type": "code",
   "execution_count": 8,
   "metadata": {},
   "outputs": [],
   "source": [
    "def load_real_samples(X1):\n",
    "    # load compressed arrays\n",
    "    #data = load(filename)\n",
    "    # unpack arrays\n",
    "    #X1 = data['arr_0']\n",
    "    # scale from [0,255] to [-1,1]\n",
    "    X1 = (X1 - 127.5) / 127.5\n",
    "    \n",
    "    return [X1]"
   ]
  },
  {
   "cell_type": "code",
   "execution_count": 9,
   "metadata": {},
   "outputs": [],
   "source": [
    "def plot_images(src_img, gen_img):\n",
    "    images = vstack((src_img, gen_img))\n",
    "    # scale from [-1,1] to [0,1]\n",
    "    images = (images + 1) / 2.0\n",
    "    titles = ['Source', 'Generated']\n",
    "    # plot images row by row\n",
    "    fig = plt.figure(figsize = [8,8])\n",
    "    for i in range(len(images)):\n",
    "        # define subplot\n",
    "        ax = pyplot.subplot(1, 2, 1 + i)\n",
    "        #plt.figure(figsize = [5,5])\n",
    "        # turn off axis\n",
    "        pyplot.axis('off')\n",
    "        # plot raw pixel data\n",
    "        ax.imshow(images[i])\n",
    "        # show title\n",
    "        ax.set_title(titles[i])\n",
    "    \n",
    "    #a =  'SSIM:' ,ss[:5], 'PSNR:' ,  ps[:5], 'IOU:', iou\n",
    "    fig.tight_layout()\n",
    "    fig.subplots_adjust(top= 1.5)\n",
    "    \n",
    "    \n",
    "    pyplot.show()"
   ]
  },
  {
   "cell_type": "code",
   "execution_count": null,
   "metadata": {},
   "outputs": [],
   "source": []
  },
  {
   "cell_type": "code",
   "execution_count": null,
   "metadata": {},
   "outputs": [],
   "source": []
  },
  {
   "cell_type": "code",
   "execution_count": 22,
   "metadata": {
    "scrolled": false
   },
   "outputs": [
    {
     "name": "stdout",
     "output_type": "stream",
     "text": [
      "Running locally at: http://127.0.0.1:7871/\n",
      "To create a public link, set `share=True` in `launch()`.\n",
      "Interface loading below...\n"
     ]
    },
    {
     "data": {
      "text/html": [
       "\n",
       "        <iframe\n",
       "            width=\"1000\"\n",
       "            height=\"500\"\n",
       "            src=\"http://127.0.0.1:7871/\"\n",
       "            frameborder=\"0\"\n",
       "            allowfullscreen\n",
       "        ></iframe>\n",
       "        "
      ],
      "text/plain": [
       "<IPython.lib.display.IFrame at 0x7f9e4e6dc310>"
      ]
     },
     "metadata": {},
     "output_type": "display_data"
    },
    {
     "data": {
      "text/plain": [
       "(<Flask 'gradio.networking'>, 'http://127.0.0.1:7871/', None)"
      ]
     },
     "execution_count": 22,
     "metadata": {},
     "output_type": "execute_result"
    }
   ],
   "source": [
    "def classify_image(inp):\n",
    "    gh1 = img_to_array(inp)\n",
    "    ph = load_real_samples(gh1)\n",
    "    \n",
    "    ph1 = np.array(ph)\n",
    "    model = load_model(name1[1])\n",
    "    iih = model.predict(ph1)\n",
    "    #print(iih.shape)\n",
    "    #print(iih)\n",
    "    #print(ph1.shape)\n",
    "    images = vstack((ph1, iih))\n",
    "    images = (images + 1) / 2.0\n",
    "    #plt.imshow(images[1])\n",
    "    \n",
    "    \n",
    "    #plt.imshow(iih)\n",
    "    #plot_images(ph1, iih)\n",
    "    #ax = images[0])\n",
    "    return images[1]\n",
    "\n",
    "\n",
    "\n",
    "iface = gr.Interface(classify_image, gr.inputs.Image(shape=(256, 256)), \"image\", title=\"Aorta Detection using Pix2Pix GAN 😃\",description= 'This software generates the segementation for Aorta in the Ultrasound\\n by' ,interpretation=\"default\")\n",
    "iface.launch()"
   ]
  },
  {
   "cell_type": "code",
   "execution_count": null,
   "metadata": {},
   "outputs": [],
   "source": []
  }
 ],
 "metadata": {
  "kernelspec": {
   "display_name": "Python 3",
   "language": "python",
   "name": "python3"
  },
  "language_info": {
   "codemirror_mode": {
    "name": "ipython",
    "version": 3
   },
   "file_extension": ".py",
   "mimetype": "text/x-python",
   "name": "python",
   "nbconvert_exporter": "python",
   "pygments_lexer": "ipython3",
   "version": "3.7.6"
  }
 },
 "nbformat": 4,
 "nbformat_minor": 4
}
